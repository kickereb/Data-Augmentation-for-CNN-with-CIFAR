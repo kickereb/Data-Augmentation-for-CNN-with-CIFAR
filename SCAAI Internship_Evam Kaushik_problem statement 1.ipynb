{
 "cells": [
  {
   "cell_type": "markdown",
   "metadata": {},
   "source": [
    "## <u>Solution Part 1</u>\n",
    "Below is a notebook that explores several intricacies that can be used to improve the performace of a Convolutional Neural Network which is tested on the CIFAR-10 image classification problem. I have toyed with several techniques such as\n",
    "* Introducing Batch normalisation\n",
    "* Introducing Dropout\n",
    "* Increasing the Deepth of Neural Network\n",
    "* Hyperparameters tuning<br>\n",
    "\n",
    "\n",
    "I will take these learnings and their results and implement a solution in <u>Solution Part 2 </u> notebook"
   ]
  },
  {
   "cell_type": "code",
   "execution_count": 2,
   "metadata": {},
   "outputs": [],
   "source": [
    "# Import necessary Dependancies\n",
    "\n",
    "import tensorflow as tf\n",
    "import numpy as np\n",
    "from tensorflow.keras import datasets, layers, models\n",
    "from tensorflow import keras\n",
    "import matplotlib.pyplot as plt\n",
    "import PIL"
   ]
  },
  {
   "cell_type": "code",
   "execution_count": 6,
   "metadata": {},
   "outputs": [
    {
     "name": "stdout",
     "output_type": "stream",
     "text": [
      "2.1.0\n",
      "1.18.5\n",
      "2.2.4-tf\n",
      "3.2.2\n",
      "7.2.0\n"
     ]
    }
   ],
   "source": [
    "import matplotlib\n",
    "print(tf.__version__)\n",
    "print(np.__version__)\n",
    "print(keras.__version__)\n",
    "print(matplotlib.__version__)\n",
    "print(PIL.__version__)"
   ]
  },
  {
   "cell_type": "markdown",
   "metadata": {},
   "source": [
    "Since the device I use has access to GPU I can check and use it by confirming the correct compatiability structure. <br>\n",
    "My device's specifications :\n",
    "* GPU : NVIDIA GeForce GTX 1060\n",
    "* VRAM : 6 GB\n",
    "* Memory : 16 GB\n",
    "* Processor : Intel i7-7700HQ"
   ]
  },
  {
   "cell_type": "code",
   "execution_count": 2,
   "metadata": {},
   "outputs": [
    {
     "name": "stdout",
     "output_type": "stream",
     "text": [
      "WARNING:tensorflow:From <ipython-input-2-d8f9410aeb52>:1: is_gpu_available (from tensorflow.python.framework.test_util) is deprecated and will be removed in a future version.\n",
      "Instructions for updating:\n",
      "Use `tf.config.list_physical_devices('GPU')` instead.\n",
      "\n",
      "\n",
      "GPU Available Yay\n",
      "\n",
      "[PhysicalDevice(name='/physical_device:GPU:0', device_type='GPU')]\n"
     ]
    }
   ],
   "source": [
    "if tf.test.is_gpu_available():\n",
    "    print(\"\\n\\nGPU Available Yay\\n\")\n",
    "    print(tf.config.list_physical_devices('GPU'))\n",
    "else:\n",
    "    print(\"GPU Unavailable :c\")"
   ]
  },
  {
   "cell_type": "markdown",
   "metadata": {},
   "source": [
    "### <br>CIFAR 10\n",
    "Now we load the dataset. Note that this is already included with keras."
   ]
  },
  {
   "cell_type": "code",
   "execution_count": 3,
   "metadata": {},
   "outputs": [],
   "source": [
    "(train_images, train_labels), (test_images, test_labels) = datasets.cifar10.load_data()\n",
    "\n",
    "train_images, test_images = train_images / 255.0, test_images / 255.0"
   ]
  },
  {
   "cell_type": "code",
   "execution_count": 4,
   "metadata": {},
   "outputs": [],
   "source": [
    "class_names = ['airplane', 'automobile', 'bird', 'cat', 'deer', 'dog', 'frog', 'horse', 'ship', 'truck']"
   ]
  },
  {
   "cell_type": "markdown",
   "metadata": {},
   "source": [
    "We will now create a simple vanilla model"
   ]
  },
  {
   "cell_type": "code",
   "execution_count": 5,
   "metadata": {},
   "outputs": [
    {
     "name": "stdout",
     "output_type": "stream",
     "text": [
      "Model: \"model\"\n",
      "_________________________________________________________________\n",
      "Layer (type)                 Output Shape              Param #   \n",
      "=================================================================\n",
      "img (InputLayer)             [(None, 32, 32, 3)]       0         \n",
      "_________________________________________________________________\n",
      "conv2d (Conv2D)              (None, 32, 32, 16)        448       \n",
      "_________________________________________________________________\n",
      "max_pooling2d (MaxPooling2D) (None, 16, 16, 16)        0         \n",
      "_________________________________________________________________\n",
      "conv2d_1 (Conv2D)            (None, 16, 16, 32)        4640      \n",
      "_________________________________________________________________\n",
      "max_pooling2d_1 (MaxPooling2 (None, 8, 8, 32)          0         \n",
      "_________________________________________________________________\n",
      "conv2d_2 (Conv2D)            (None, 8, 8, 32)          9248      \n",
      "_________________________________________________________________\n",
      "flatten (Flatten)            (None, 2048)              0         \n",
      "_________________________________________________________________\n",
      "dense (Dense)                (None, 64)                131136    \n",
      "_________________________________________________________________\n",
      "dense_1 (Dense)              (None, 10)                650       \n",
      "=================================================================\n",
      "Total params: 146,122\n",
      "Trainable params: 146,122\n",
      "Non-trainable params: 0\n",
      "_________________________________________________________________\n"
     ]
    }
   ],
   "source": [
    "input_img = keras.layers.Input((32, 32, 3), name = \"img\")\n",
    "n_filters = 16\n",
    "\n",
    "def make_model(input_img, n_filters = 16):\n",
    "    c1 = keras.layers.Conv2D(n_filters, (3,3), padding='same', activation='relu',)(input_img)\n",
    "    p1 = keras.layers.MaxPooling2D((2,2))(c1)\n",
    "\n",
    "    c2 = keras.layers.Conv2D(n_filters*2, (3,3), padding='same', activation='relu')(p1)\n",
    "    p2 = keras.layers.MaxPooling2D((2,2))(c2)\n",
    "\n",
    "    c3 = keras.layers.Conv2D(n_filters*2, (3,3), padding='same', activation='relu')(p2)\n",
    "    flat = keras.layers.Flatten()\n",
    "    flattened = flat(c3)\n",
    "    d1 = keras.layers.Dense(64, activation='relu')(flattened)\n",
    "    d2 = keras.layers.Dense(10, activation='softmax')(d1)\n",
    "    model = models.Model(inputs=[input_img], outputs=[d2])\n",
    "    return model\n",
    "\n",
    "model = make_model(input_img)\n",
    "model.compile(optimizer = 'Adam', loss = \"sparse_categorical_crossentropy\", metrics = [\"accuracy\"])\n",
    "model.summary()"
   ]
  },
  {
   "cell_type": "code",
   "execution_count": 6,
   "metadata": {},
   "outputs": [
    {
     "name": "stdout",
     "output_type": "stream",
     "text": [
      "Train on 50000 samples, validate on 10000 samples\n",
      "Epoch 1/10\n",
      "50000/50000 [==============================] - 9s 184us/sample - loss: 1.4833 - accuracy: 0.4639 - val_loss: 1.1992 - val_accuracy: 0.5755\n",
      "Epoch 2/10\n",
      "50000/50000 [==============================] - 7s 148us/sample - loss: 1.1065 - accuracy: 0.6054 - val_loss: 1.1001 - val_accuracy: 0.6049\n",
      "Epoch 3/10\n",
      "50000/50000 [==============================] - 8s 151us/sample - loss: 0.9617 - accuracy: 0.6609 - val_loss: 0.9524 - val_accuracy: 0.6643\n",
      "Epoch 4/10\n",
      "50000/50000 [==============================] - 8s 163us/sample - loss: 0.8692 - accuracy: 0.6949 - val_loss: 0.9423 - val_accuracy: 0.6705\n",
      "Epoch 5/10\n",
      "50000/50000 [==============================] - 8s 155us/sample - loss: 0.7979 - accuracy: 0.7203 - val_loss: 0.9003 - val_accuracy: 0.6845\n",
      "Epoch 6/10\n",
      "50000/50000 [==============================] - 8s 157us/sample - loss: 0.7374 - accuracy: 0.7411 - val_loss: 0.8968 - val_accuracy: 0.6909\n",
      "Epoch 7/10\n",
      "50000/50000 [==============================] - 7s 149us/sample - loss: 0.6841 - accuracy: 0.7602 - val_loss: 0.9289 - val_accuracy: 0.6829\n",
      "Epoch 8/10\n",
      "50000/50000 [==============================] - 8s 162us/sample - loss: 0.6377 - accuracy: 0.7741 - val_loss: 0.8734 - val_accuracy: 0.7032\n",
      "Epoch 9/10\n",
      "50000/50000 [==============================] - 8s 157us/sample - loss: 0.5882 - accuracy: 0.7903 - val_loss: 0.9081 - val_accuracy: 0.6993\n",
      "Epoch 10/10\n",
      "50000/50000 [==============================] - 8s 154us/sample - loss: 0.5446 - accuracy: 0.8070 - val_loss: 0.9717 - val_accuracy: 0.6956\n"
     ]
    }
   ],
   "source": [
    "history = model.fit(train_images, train_labels, epochs = 10, validation_data = (test_images, test_labels))"
   ]
  },
  {
   "cell_type": "code",
   "execution_count": 7,
   "metadata": {},
   "outputs": [
    {
     "name": "stdout",
     "output_type": "stream",
     "text": [
      "10000/10000 - 1s - loss: 0.9717 - accuracy: 0.6956\n"
     ]
    },
    {
     "data": {
      "image/png": "[encoded data removed]",
      "text/plain": [
       "<Figure size 432x288 with 1 Axes>"
      ]
     },
     "metadata": {
      "needs_background": "light"
     },
     "output_type": "display_data"
    }
   ],
   "source": [
    "plt.plot(history.history['accuracy'], label='accuracy')\n",
    "plt.plot(history.history['val_accuracy'], label = 'val_accuracy')\n",
    "plt.xlabel('Epoch')\n",
    "plt.ylabel('Accuracy')\n",
    "plt.ylim([0.5, 1])\n",
    "plt.legend(loc='lower right')\n",
    "\n",
    "test_loss, test_acc = model.evaluate(test_images,  test_labels, verbose=2)"
   ]
  },
  {
   "cell_type": "markdown",
   "metadata": {},
   "source": [
    "Next we introduce batch normalisation and dropout and assess its performance"
   ]
  },
  {
   "cell_type": "code",
   "execution_count": 8,
   "metadata": {},
   "outputs": [
    {
     "name": "stdout",
     "output_type": "stream",
     "text": [
      "Model: \"model_1\"\n",
      "_________________________________________________________________\n",
      "Layer (type)                 Output Shape              Param #   \n",
      "=================================================================\n",
      "img (InputLayer)             [(None, 32, 32, 3)]       0         \n",
      "_________________________________________________________________\n",
      "conv2d_3 (Conv2D)            (None, 32, 32, 16)        448       \n",
      "_________________________________________________________________\n",
      "batch_normalization (BatchNo (None, 32, 32, 16)        64        \n",
      "_________________________________________________________________\n",
      "activation (Activation)      (None, 32, 32, 16)        0         \n",
      "_________________________________________________________________\n",
      "max_pooling2d_2 (MaxPooling2 (None, 16, 16, 16)        0         \n",
      "_________________________________________________________________\n",
      "dropout (Dropout)            (None, 16, 16, 16)        0         \n",
      "_________________________________________________________________\n",
      "conv2d_4 (Conv2D)            (None, 16, 16, 32)        4640      \n",
      "_________________________________________________________________\n",
      "batch_normalization_1 (Batch (None, 16, 16, 32)        128       \n",
      "_________________________________________________________________\n",
      "activation_1 (Activation)    (None, 16, 16, 32)        0         \n",
      "_________________________________________________________________\n",
      "max_pooling2d_3 (MaxPooling2 (None, 8, 8, 32)          0         \n",
      "_________________________________________________________________\n",
      "dropout_1 (Dropout)          (None, 8, 8, 32)          0         \n",
      "_________________________________________________________________\n",
      "conv2d_5 (Conv2D)            (None, 8, 8, 32)          9248      \n",
      "_________________________________________________________________\n",
      "batch_normalization_2 (Batch (None, 8, 8, 32)          128       \n",
      "_________________________________________________________________\n",
      "activation_2 (Activation)    (None, 8, 8, 32)          0         \n",
      "_________________________________________________________________\n",
      "flatten_1 (Flatten)          (None, 2048)              0         \n",
      "_________________________________________________________________\n",
      "dense_2 (Dense)              (None, 64)                131136    \n",
      "_________________________________________________________________\n",
      "dense_3 (Dense)              (None, 10)                650       \n",
      "=================================================================\n",
      "Total params: 146,442\n",
      "Trainable params: 146,282\n",
      "Non-trainable params: 160\n",
      "_________________________________________________________________\n"
     ]
    }
   ],
   "source": [
    "input_img = keras.layers.Input((32, 32, 3), name = \"img\")\n",
    "n_filters = 16\n",
    "def make_model(input_img, n_filters = 16):\n",
    "    c1 = keras.layers.Conv2D(n_filters, (3,3), padding='same')(input_img)\n",
    "    c1 = keras.layers.BatchNormalization()(c1)\n",
    "    c1 = keras.layers.Activation('relu')(c1)\n",
    "    p1 = keras.layers.MaxPooling2D((2,2))(c1)\n",
    "    p1 = keras.layers.Dropout(0.1)(p1)\n",
    "\n",
    "    c2 = keras.layers.Conv2D(n_filters*2, (3,3), padding='same')(p1)\n",
    "    c2 = keras.layers.BatchNormalization()(c2)\n",
    "    c2 = keras.layers.Activation('relu')(c2)\n",
    "    p2 = keras.layers.MaxPooling2D((2,2))(c2)\n",
    "    p2 = keras.layers.Dropout(0.1)(p2)\n",
    "\n",
    "    c3 = keras.layers.Conv2D(n_filters*2, (3,3), padding='same')(p2)\n",
    "    c3 = keras.layers.BatchNormalization()(c3)\n",
    "    c3 = keras.layers.Activation('relu')(c3)\n",
    "    \n",
    "    flat = keras.layers.Flatten()\n",
    "    flattened = flat(c3)\n",
    "    \n",
    "    d1 = keras.layers.Dense(64, activation='relu')(flattened)\n",
    "    d2 = keras.layers.Dense(10, activation='softmax')(d1)\n",
    "    model = models.Model(inputs=[input_img], outputs=[d2])\n",
    "    return model\n",
    "\n",
    "model = make_model(input_img)\n",
    "model.compile(optimizer = 'Adam', loss = \"sparse_categorical_crossentropy\", metrics = [\"accuracy\"])\n",
    "model.summary()"
   ]
  },
  {
   "cell_type": "code",
   "execution_count": 9,
   "metadata": {},
   "outputs": [
    {
     "name": "stdout",
     "output_type": "stream",
     "text": [
      "Train on 50000 samples, validate on 10000 samples\n",
      "Epoch 1/10\n",
      "50000/50000 [==============================] - 9s 190us/sample - loss: 1.3511 - accuracy: 0.5152 - val_loss: 2.2388 - val_accuracy: 0.3490\n",
      "Epoch 2/10\n",
      "50000/50000 [==============================] - 9s 177us/sample - loss: 1.0079 - accuracy: 0.6442 - val_loss: 1.1495 - val_accuracy: 0.6103\n",
      "Epoch 3/10\n",
      "50000/50000 [==============================] - 9s 175us/sample - loss: 0.8934 - accuracy: 0.6879 - val_loss: 1.0074 - val_accuracy: 0.6517\n",
      "Epoch 4/10\n",
      "50000/50000 [==============================] - 9s 175us/sample - loss: 0.8229 - accuracy: 0.7099 - val_loss: 0.9616 - val_accuracy: 0.6660\n",
      "Epoch 5/10\n",
      "50000/50000 [==============================] - 9s 174us/sample - loss: 0.7742 - accuracy: 0.7306 - val_loss: 0.9244 - val_accuracy: 0.6814\n",
      "Epoch 6/10\n",
      "50000/50000 [==============================] - 9s 175us/sample - loss: 0.7330 - accuracy: 0.7421 - val_loss: 0.9154 - val_accuracy: 0.6910\n",
      "Epoch 7/10\n",
      "50000/50000 [==============================] - 9s 186us/sample - loss: 0.6986 - accuracy: 0.7525 - val_loss: 1.2258 - val_accuracy: 0.6022\n",
      "Epoch 8/10\n",
      "50000/50000 [==============================] - 9s 186us/sample - loss: 0.6711 - accuracy: 0.7636 - val_loss: 0.8782 - val_accuracy: 0.7065\n",
      "Epoch 9/10\n",
      "50000/50000 [==============================] - 9s 183us/sample - loss: 0.6488 - accuracy: 0.7706 - val_loss: 0.9659 - val_accuracy: 0.6677\n",
      "Epoch 10/10\n",
      "50000/50000 [==============================] - 9s 183us/sample - loss: 0.6253 - accuracy: 0.7801 - val_loss: 0.8004 - val_accuracy: 0.7349\n"
     ]
    }
   ],
   "source": [
    "model.compile(optimizer = 'Adam', loss = \"sparse_categorical_crossentropy\", metrics = [\"accuracy\"])\n",
    "history = model.fit(train_images, train_labels, epochs = 10, validation_data = (test_images, test_labels))"
   ]
  },
  {
   "cell_type": "markdown",
   "metadata": {},
   "source": [
    "<br>There's a slight improvement int the results which can be credited to batch normalisation by removing vanishing/exploding gradient problem"
   ]
  },
  {
   "cell_type": "code",
   "execution_count": 10,
   "metadata": {},
   "outputs": [
    {
     "name": "stdout",
     "output_type": "stream",
     "text": [
      "10000/10000 - 1s - loss: 0.8004 - accuracy: 0.7349\n"
     ]
    },
    {
     "data": {
      "image/png": "[encoded data removed]",
      "text/plain": [
       "<Figure size 432x288 with 1 Axes>"
      ]
     },
     "metadata": {
      "needs_background": "light"
     },
     "output_type": "display_data"
    }
   ],
   "source": [
    "plt.plot(history.history['accuracy'], label='accuracy')\n",
    "plt.plot(history.history['val_accuracy'], label = 'val_accuracy')\n",
    "plt.xlabel('Epoch')\n",
    "plt.ylabel('Accuracy')\n",
    "plt.ylim([0.5, 1])\n",
    "plt.legend(loc='lower right')\n",
    "\n",
    "test_loss, test_acc = model.evaluate(test_images,  test_labels, verbose=2)"
   ]
  },
  {
   "cell_type": "markdown",
   "metadata": {},
   "source": [
    "<br>Finnaly we attempt at incresing the depth of the neural network by adding more convolutional layers in the hope that the model will be better able to pick up more comple features of the image."
   ]
  },
  {
   "cell_type": "code",
   "execution_count": 11,
   "metadata": {},
   "outputs": [
    {
     "name": "stdout",
     "output_type": "stream",
     "text": [
      "Model: \"model_2\"\n",
      "_________________________________________________________________\n",
      "Layer (type)                 Output Shape              Param #   \n",
      "=================================================================\n",
      "img (InputLayer)             [(None, 32, 32, 3)]       0         \n",
      "_________________________________________________________________\n",
      "conv2d_6 (Conv2D)            (None, 32, 32, 16)        448       \n",
      "_________________________________________________________________\n",
      "batch_normalization_3 (Batch (None, 32, 32, 16)        64        \n",
      "_________________________________________________________________\n",
      "activation_3 (Activation)    (None, 32, 32, 16)        0         \n",
      "_________________________________________________________________\n",
      "max_pooling2d_4 (MaxPooling2 (None, 16, 16, 16)        0         \n",
      "_________________________________________________________________\n",
      "dropout_2 (Dropout)          (None, 16, 16, 16)        0         \n",
      "_________________________________________________________________\n",
      "conv2d_7 (Conv2D)            (None, 16, 16, 32)        4640      \n",
      "_________________________________________________________________\n",
      "batch_normalization_4 (Batch (None, 16, 16, 32)        128       \n",
      "_________________________________________________________________\n",
      "activation_4 (Activation)    (None, 16, 16, 32)        0         \n",
      "_________________________________________________________________\n",
      "max_pooling2d_5 (MaxPooling2 (None, 8, 8, 32)          0         \n",
      "_________________________________________________________________\n",
      "dropout_3 (Dropout)          (None, 8, 8, 32)          0         \n",
      "_________________________________________________________________\n",
      "conv2d_8 (Conv2D)            (None, 8, 8, 64)          18496     \n",
      "_________________________________________________________________\n",
      "batch_normalization_5 (Batch (None, 8, 8, 64)          256       \n",
      "_________________________________________________________________\n",
      "activation_5 (Activation)    (None, 8, 8, 64)          0         \n",
      "_________________________________________________________________\n",
      "max_pooling2d_6 (MaxPooling2 (None, 4, 4, 64)          0         \n",
      "_________________________________________________________________\n",
      "dropout_4 (Dropout)          (None, 4, 4, 64)          0         \n",
      "_________________________________________________________________\n",
      "conv2d_9 (Conv2D)            (None, 4, 4, 128)         73856     \n",
      "_________________________________________________________________\n",
      "batch_normalization_6 (Batch (None, 4, 4, 128)         512       \n",
      "_________________________________________________________________\n",
      "activation_6 (Activation)    (None, 4, 4, 128)         0         \n",
      "_________________________________________________________________\n",
      "max_pooling2d_7 (MaxPooling2 (None, 2, 2, 128)         0         \n",
      "_________________________________________________________________\n",
      "dropout_5 (Dropout)          (None, 2, 2, 128)         0         \n",
      "_________________________________________________________________\n",
      "flatten_2 (Flatten)          (None, 512)               0         \n",
      "_________________________________________________________________\n",
      "dense_4 (Dense)              (None, 64)                32832     \n",
      "_________________________________________________________________\n",
      "dense_5 (Dense)              (None, 10)                650       \n",
      "=================================================================\n",
      "Total params: 131,882\n",
      "Trainable params: 131,402\n",
      "Non-trainable params: 480\n",
      "_________________________________________________________________\n"
     ]
    }
   ],
   "source": [
    "input_img = keras.layers.Input((32, 32, 3), name = \"img\")\n",
    "\n",
    "def make_model(input_img, n_filters = 16):\n",
    "    c1 = keras.layers.Conv2D(n_filters, (3,3), padding='same', activation=None)(input_img)\n",
    "    c1 = keras.layers.BatchNormalization()(c1)\n",
    "    c1 = keras.layers.Activation('relu')(c1)\n",
    "    p1 = keras.layers.MaxPooling2D((2,2))(c1)\n",
    "    p1 = keras.layers.Dropout(0.1)(p1)\n",
    "\n",
    "    c2 = keras.layers.Conv2D(n_filters*2, (3,3), padding='same', activation=None)(p1)\n",
    "    c2 = keras.layers.BatchNormalization()(c2)\n",
    "    c2 = keras.layers.Activation('relu')(c2)\n",
    "    p2 = keras.layers.MaxPooling2D((2,2))(c2)\n",
    "    p2 = keras.layers.Dropout(0.1)(p2)\n",
    "\n",
    "    c3 = keras.layers.Conv2D(n_filters*4, (3,3), padding='same', activation=None)(p2)\n",
    "    c3 = keras.layers.BatchNormalization()(c3)\n",
    "    c3 = keras.layers.Activation('relu')(c3)\n",
    "    p3 = keras.layers.MaxPooling2D((2,2))(c3)\n",
    "    p3 = keras.layers.Dropout(0.1)(p3)\n",
    "    \n",
    "    c4 = keras.layers.Conv2D(n_filters*8, (3,3), padding='same', activation=None)(p3)\n",
    "    c4 = keras.layers.BatchNormalization()(c4)\n",
    "    c4 = keras.layers.Activation('relu')(c4)\n",
    "    p4 = keras.layers.MaxPooling2D((2,2))(c4)\n",
    "    p4 = keras.layers.Dropout(0.1)(p4)\n",
    "    \n",
    "    flat = keras.layers.Flatten()\n",
    "    flattened = flat(p4)\n",
    "    \n",
    "    d1 = keras.layers.Dense(64, activation='relu')(flattened)\n",
    "    d2 = keras.layers.Dense(10, activation='softmax')(d1)\n",
    "    model = models.Model(inputs=[input_img], outputs=[d2])\n",
    "    return model\n",
    "model = make_model(input_img)\n",
    "model.compile(optimizer = 'Adam', loss = \"sparse_categorical_crossentropy\", metrics = [\"accuracy\"])\n",
    "model.summary()"
   ]
  },
  {
   "cell_type": "code",
   "execution_count": 12,
   "metadata": {},
   "outputs": [
    {
     "name": "stdout",
     "output_type": "stream",
     "text": [
      "Train on 50000 samples, validate on 10000 samples\n",
      "Epoch 1/15\n",
      "50000/50000 [==============================] - 11s 220us/sample - loss: 1.4032 - accuracy: 0.4945 - val_loss: 1.1213 - val_accuracy: 0.5964\n",
      "Epoch 2/15\n",
      "50000/50000 [==============================] - 10s 195us/sample - loss: 1.0657 - accuracy: 0.6214 - val_loss: 1.1753 - val_accuracy: 0.5946\n",
      "Epoch 3/15\n",
      "50000/50000 [==============================] - 10s 195us/sample - loss: 0.9380 - accuracy: 0.6697 - val_loss: 0.8900 - val_accuracy: 0.6883\n",
      "Epoch 4/15\n",
      "50000/50000 [==============================] - 10s 199us/sample - loss: 0.8552 - accuracy: 0.6972 - val_loss: 0.8700 - val_accuracy: 0.7006\n",
      "Epoch 5/15\n",
      "50000/50000 [==============================] - 10s 195us/sample - loss: 0.7973 - accuracy: 0.7180 - val_loss: 0.9734 - val_accuracy: 0.6718\n",
      "Epoch 6/15\n",
      "50000/50000 [==============================] - 10s 195us/sample - loss: 0.7506 - accuracy: 0.7360 - val_loss: 0.8296 - val_accuracy: 0.7149\n",
      "Epoch 7/15\n",
      "50000/50000 [==============================] - 10s 196us/sample - loss: 0.7108 - accuracy: 0.7502 - val_loss: 0.7544 - val_accuracy: 0.7364\n",
      "Epoch 8/15\n",
      "50000/50000 [==============================] - 10s 209us/sample - loss: 0.6838 - accuracy: 0.7584 - val_loss: 0.9223 - val_accuracy: 0.6965\n",
      "Epoch 9/15\n",
      "50000/50000 [==============================] - 10s 204us/sample - loss: 0.6581 - accuracy: 0.7697 - val_loss: 0.7566 - val_accuracy: 0.7355\n",
      "Epoch 10/15\n",
      "50000/50000 [==============================] - 10s 206us/sample - loss: 0.6295 - accuracy: 0.7794 - val_loss: 0.6642 - val_accuracy: 0.7703\n",
      "Epoch 11/15\n",
      "50000/50000 [==============================] - 10s 204us/sample - loss: 0.6068 - accuracy: 0.7863 - val_loss: 0.7308 - val_accuracy: 0.7462\n",
      "Epoch 12/15\n",
      "50000/50000 [==============================] - 10s 203us/sample - loss: 0.5920 - accuracy: 0.7919 - val_loss: 0.7316 - val_accuracy: 0.7469\n",
      "Epoch 13/15\n",
      "50000/50000 [==============================] - 10s 205us/sample - loss: 0.5713 - accuracy: 0.7993 - val_loss: 0.7090 - val_accuracy: 0.7590\n",
      "Epoch 14/15\n",
      "50000/50000 [==============================] - 10s 205us/sample - loss: 0.5581 - accuracy: 0.8036 - val_loss: 0.8583 - val_accuracy: 0.7176\n",
      "Epoch 15/15\n",
      "50000/50000 [==============================] - 10s 204us/sample - loss: 0.5454 - accuracy: 0.8063 - val_loss: 0.6242 - val_accuracy: 0.7838\n"
     ]
    }
   ],
   "source": [
    "model.compile(optimizer = 'Adam', loss = \"sparse_categorical_crossentropy\", metrics = [\"accuracy\"])\n",
    "history = model.fit(train_images, train_labels, epochs = 15, validation_data = (test_images, test_labels))"
   ]
  },
  {
   "cell_type": "code",
   "execution_count": 13,
   "metadata": {},
   "outputs": [
    {
     "name": "stdout",
     "output_type": "stream",
     "text": [
      "Train on 50000 samples, validate on 10000 samples\n",
      "Epoch 1/4\n",
      "50000/50000 [==============================] - 12s 248us/sample - loss: 0.5392 - accuracy: 0.8123 - val_loss: 0.7144 - val_accuracy: 0.7591\n",
      "Epoch 2/4\n",
      "50000/50000 [==============================] - 11s 225us/sample - loss: 0.5142 - accuracy: 0.8179 - val_loss: 0.8159 - val_accuracy: 0.7200\n",
      "Epoch 3/4\n",
      "50000/50000 [==============================] - 11s 226us/sample - loss: 0.5100 - accuracy: 0.8202 - val_loss: 0.6661 - val_accuracy: 0.7719\n",
      "Epoch 4/4\n",
      "50000/50000 [==============================] - 12s 234us/sample - loss: 0.5051 - accuracy: 0.8207 - val_loss: 0.7130 - val_accuracy: 0.7623\n"
     ]
    }
   ],
   "source": [
    "model1 = model\n",
    "model.compile(optimizer = 'Adam', loss = \"sparse_categorical_crossentropy\", metrics = [\"accuracy\"])\n",
    "history = model.fit(train_images, train_labels, epochs = 4, validation_data = (test_images, test_labels))"
   ]
  },
  {
   "cell_type": "markdown",
   "metadata": {},
   "source": [
    "<br> We can see that the model improved upon deepening. The increase in accuracy doesn't have to be much. It just serves as proof of concept that our proposed changes bring improvement to the model."
   ]
  },
  {
   "cell_type": "code",
   "execution_count": 14,
   "metadata": {},
   "outputs": [
    {
     "name": "stdout",
     "output_type": "stream",
     "text": [
      "10000/10000 - 1s - loss: 0.7130 - accuracy: 0.7623\n"
     ]
    },
    {
     "data": {
      "image/png": "[encoded data removed]",
      "text/plain": [
       "<Figure size 432x288 with 1 Axes>"
      ]
     },
     "metadata": {
      "needs_background": "light"
     },
     "output_type": "display_data"
    }
   ],
   "source": [
    "plt.plot(history.history['accuracy'], label='accuracy')\n",
    "plt.plot(history.history['val_accuracy'], label = 'val_accuracy')\n",
    "plt.xlabel('Epoch')\n",
    "plt.ylabel('Accuracy')\n",
    "plt.ylim([0.5, 1])\n",
    "plt.legend(loc='lower right')\n",
    "\n",
    "test_loss, test_acc = model.evaluate(test_images,  test_labels, verbose=2)"
   ]
  },
  {
   "cell_type": "markdown",
   "metadata": {},
   "source": [
    "One noteable detail is the difference between the accuracy on training set and validation set. The gap suggests a possibility of overfitting and will be addressed in the <u>Solution Part 2</u>."
   ]
  },
  {
   "cell_type": "code",
   "execution_count": 15,
   "metadata": {},
   "outputs": [],
   "source": [
    "tf.keras.models.save_model(model, 'my_mod.h5')"
   ]
  },
  {
   "cell_type": "markdown",
   "metadata": {},
   "source": [
    "\n",
    "<br>Now we know for sure that the following work as a solution\n",
    "* Introducing Batch normalisation\n",
    "* Introducing Dropout\n",
    "* Increasing the Deepth of Neural Network\n",
    "* Hyperparameters tuning<br>\n",
    "\n",
    "So it's time to test them out by combining and forming an improved model that will be able to "
   ]
  },
  {
   "cell_type": "markdown",
   "metadata": {},
   "source": [
    "## <u>Solution Part 2</u>\n",
    "As discussed earlier, we need to solve the problem of overfitting (high variance).<br>\n",
    "This can be done by\n",
    "* Enhancing Model\n",
    "* Regularisation\n",
    "* Adding more training data\n",
    "\n",
    "In this section we will be taking more hyperparameter tuning into our ow hands and find an optimum stall that can maximise our model's generalisation capabilities.<br>\n",
    "<br>Since we have tried enhancing the model by adding more convolutional layers and also introducing regularization, the only method left is to add more training data. But since we cannot annotate and add more training data to our model because A) It is tedious and difficult and B) It won't be a fair comparision for participants who are working on the same dataset, we should devise a method to do so. <br>\n",
    "This is where data augmentation comes in. <br>"
   ]
  },
  {
   "cell_type": "code",
   "execution_count": 16,
   "metadata": {},
   "outputs": [],
   "source": [
    "def conv_blocks(c_in, n_filters):\n",
    "    c1 = keras.layers.Conv2D(n_filters, (3,3), padding='same', activation=None)(c_in)\n",
    "    c1 = keras.layers.Activation('relu')(c1)\n",
    "    c1 = keras.layers.BatchNormalization()(c1)\n",
    "    c1 = keras.layers.Conv2D(n_filters, (3,3), padding='same', activation=None)(c1)\n",
    "    c1 = keras.layers.Activation('relu')(c1)\n",
    "    c1 = keras.layers.BatchNormalization()(c1)\n",
    "    c1 = keras.layers.MaxPooling2D((2,2))(c1)\n",
    "    c1 = keras.layers.Dropout(0.25)(c1)\n",
    "    return c1"
   ]
  },
  {
   "cell_type": "code",
   "execution_count": 17,
   "metadata": {},
   "outputs": [
    {
     "name": "stdout",
     "output_type": "stream",
     "text": [
      "Model: \"model_3\"\n",
      "_________________________________________________________________\n",
      "Layer (type)                 Output Shape              Param #   \n",
      "=================================================================\n",
      "img (InputLayer)             [(None, 32, 32, 3)]       0         \n",
      "_________________________________________________________________\n",
      "conv2d_10 (Conv2D)           (None, 32, 32, 64)        1792      \n",
      "_________________________________________________________________\n",
      "activation_7 (Activation)    (None, 32, 32, 64)        0         \n",
      "_________________________________________________________________\n",
      "batch_normalization_7 (Batch (None, 32, 32, 64)        256       \n",
      "_________________________________________________________________\n",
      "conv2d_11 (Conv2D)           (None, 32, 32, 64)        36928     \n",
      "_________________________________________________________________\n",
      "activation_8 (Activation)    (None, 32, 32, 64)        0         \n",
      "_________________________________________________________________\n",
      "batch_normalization_8 (Batch (None, 32, 32, 64)        256       \n",
      "_________________________________________________________________\n",
      "max_pooling2d_8 (MaxPooling2 (None, 16, 16, 64)        0         \n",
      "_________________________________________________________________\n",
      "dropout_6 (Dropout)          (None, 16, 16, 64)        0         \n",
      "_________________________________________________________________\n",
      "conv2d_12 (Conv2D)           (None, 16, 16, 128)       73856     \n",
      "_________________________________________________________________\n",
      "activation_9 (Activation)    (None, 16, 16, 128)       0         \n",
      "_________________________________________________________________\n",
      "batch_normalization_9 (Batch (None, 16, 16, 128)       512       \n",
      "_________________________________________________________________\n",
      "conv2d_13 (Conv2D)           (None, 16, 16, 128)       147584    \n",
      "_________________________________________________________________\n",
      "activation_10 (Activation)   (None, 16, 16, 128)       0         \n",
      "_________________________________________________________________\n",
      "batch_normalization_10 (Batc (None, 16, 16, 128)       512       \n",
      "_________________________________________________________________\n",
      "max_pooling2d_9 (MaxPooling2 (None, 8, 8, 128)         0         \n",
      "_________________________________________________________________\n",
      "dropout_7 (Dropout)          (None, 8, 8, 128)         0         \n",
      "_________________________________________________________________\n",
      "conv2d_14 (Conv2D)           (None, 8, 8, 256)         295168    \n",
      "_________________________________________________________________\n",
      "activation_11 (Activation)   (None, 8, 8, 256)         0         \n",
      "_________________________________________________________________\n",
      "batch_normalization_11 (Batc (None, 8, 8, 256)         1024      \n",
      "_________________________________________________________________\n",
      "conv2d_15 (Conv2D)           (None, 8, 8, 256)         590080    \n",
      "_________________________________________________________________\n",
      "activation_12 (Activation)   (None, 8, 8, 256)         0         \n",
      "_________________________________________________________________\n",
      "batch_normalization_12 (Batc (None, 8, 8, 256)         1024      \n",
      "_________________________________________________________________\n",
      "max_pooling2d_10 (MaxPooling (None, 4, 4, 256)         0         \n",
      "_________________________________________________________________\n",
      "dropout_8 (Dropout)          (None, 4, 4, 256)         0         \n",
      "_________________________________________________________________\n",
      "conv2d_16 (Conv2D)           (None, 4, 4, 512)         1180160   \n",
      "_________________________________________________________________\n",
      "activation_13 (Activation)   (None, 4, 4, 512)         0         \n",
      "_________________________________________________________________\n",
      "batch_normalization_13 (Batc (None, 4, 4, 512)         2048      \n",
      "_________________________________________________________________\n",
      "conv2d_17 (Conv2D)           (None, 4, 4, 512)         2359808   \n",
      "_________________________________________________________________\n",
      "activation_14 (Activation)   (None, 4, 4, 512)         0         \n",
      "_________________________________________________________________\n",
      "batch_normalization_14 (Batc (None, 4, 4, 512)         2048      \n",
      "_________________________________________________________________\n",
      "max_pooling2d_11 (MaxPooling (None, 2, 2, 512)         0         \n",
      "_________________________________________________________________\n",
      "dropout_9 (Dropout)          (None, 2, 2, 512)         0         \n",
      "_________________________________________________________________\n",
      "flatten_3 (Flatten)          (None, 2048)              0         \n",
      "_________________________________________________________________\n",
      "dense_6 (Dense)              (None, 256)               524544    \n",
      "_________________________________________________________________\n",
      "dense_7 (Dense)              (None, 10)                2570      \n",
      "=================================================================\n",
      "Total params: 5,220,170\n",
      "Trainable params: 5,216,330\n",
      "Non-trainable params: 3,840\n",
      "_________________________________________________________________\n"
     ]
    }
   ],
   "source": [
    "input_img = keras.layers.Input((32, 32, 3), name = \"img\")\n",
    "\n",
    "def make_model(input_img, n_filters = 64):\n",
    "    c1 = conv_blocks(input_img, n_filters = n_filters)\n",
    "    c2 = conv_blocks(c1, n_filters = 2*n_filters)\n",
    "    c3 = conv_blocks(c2, n_filters = 4*n_filters)\n",
    "    c4 = conv_blocks(c3, n_filters = 8*n_filters)\n",
    "    \n",
    "    flat = keras.layers.Flatten()\n",
    "    flattened = flat(c4)\n",
    "    \n",
    "    d1 = keras.layers.Dense(256, activation='relu')(flattened)\n",
    "    d2 = keras.layers.Dense(10, activation='softmax')(d1)\n",
    "    model = models.Model(inputs=[input_img], outputs=[d2])\n",
    "    return model\n",
    "\n",
    "model = make_model(input_img)\n",
    "model.compile(optimizer = 'Adam', loss = \"sparse_categorical_crossentropy\", metrics = [\"accuracy\"])\n",
    "model.summary()"
   ]
  },
  {
   "cell_type": "markdown",
   "metadata": {},
   "source": [
    "<br>A fairly larger model is created with more features extracted by each convolutional filters.<br>\n",
    "<br>I have chosen ImageDataGenerator for data augmentaion as it operates within the model pipeline which I will explain later why is better for our case."
   ]
  },
  {
   "cell_type": "code",
   "execution_count": 18,
   "metadata": {},
   "outputs": [],
   "source": [
    "from tensorflow.keras.preprocessing.image import ImageDataGenerator\n",
    "from tensorflow.keras.callbacks import LearningRateScheduler, EarlyStopping"
   ]
  },
  {
   "cell_type": "code",
   "execution_count": 19,
   "metadata": {},
   "outputs": [],
   "source": [
    "(x_train, y_train), (x_test, y_test) = datasets.cifar10.load_data()\n",
    "x_train = x_train.astype('float32')\n",
    "x_test = x_test.astype('float32')"
   ]
  },
  {
   "cell_type": "code",
   "execution_count": 20,
   "metadata": {},
   "outputs": [],
   "source": [
    "# Normalising the input to a scaled range will add an affect similar to regularisation\n",
    "mean = np.mean(x_train,axis=(0,1,2,3))\n",
    "std = np.std(x_train,axis=(0,1,2,3))\n",
    "x_train = (x_train-mean)/(std+1e-7)\n",
    "x_test = (x_test-mean)/(std+1e-7)"
   ]
  },
  {
   "cell_type": "code",
   "execution_count": 25,
   "metadata": {},
   "outputs": [],
   "source": [
    "# Definig Data augmentation parameters\n",
    "datagen = ImageDataGenerator(\n",
    "    rotation_range=15,\n",
    "    width_shift_range=0.1,\n",
    "    height_shift_range=0.1,\n",
    "    horizontal_flip=True,\n",
    "    )\n",
    "datagen.fit(x_train)"
   ]
  },
  {
   "cell_type": "code",
   "execution_count": 22,
   "metadata": {},
   "outputs": [],
   "source": [
    "# To avoid overfitting I've decided to reduce the learning rate one a certain number of epochs have completed\n",
    "\n",
    "def lr_schedule(epoch):\n",
    "    lrate = 0.001\n",
    "    if epoch > 65:\n",
    "        lrate = 0.0005\n",
    "    if epoch > 85:\n",
    "        lrate = 0.0003\n",
    "    return lrate"
   ]
  },
  {
   "cell_type": "markdown",
   "metadata": {},
   "source": [
    "Note that in the following cell, the number of epochs are very huge (100). This is done intentionally and is concluded safe to do because as discussed earlier ImageDataGenerator performs augmentations in real time as it is fetching data for each forward pass. So the model is fairly seeing new images at every step."
   ]
  },
  {
   "cell_type": "code",
   "execution_count": 23,
   "metadata": {},
   "outputs": [],
   "source": [
    "es = EarlyStopping(monitor='val_loss', mode='min', verbose=1, patience=20)\n",
    "callback_list = [LearningRateScheduler(lr_schedule), es]"
   ]
  },
  {
   "cell_type": "code",
   "execution_count": 26,
   "metadata": {},
   "outputs": [
    {
     "name": "stdout",
     "output_type": "stream",
     "text": [
      "WARNING:tensorflow:sample_weight modes were coerced from\n",
      "  ...\n",
      "    to  \n",
      "  ['...']\n",
      "Train for 195 steps, validate on 10000 samples\n",
      "Epoch 1/100\n",
      "195/195 [==============================] - 25s 128ms/step - loss: 0.6274 - accuracy: 0.7892 - val_loss: 10.0170 - val_accuracy: 0.2006\n",
      "Epoch 2/100\n",
      "195/195 [==============================] - 26s 134ms/step - loss: 0.5581 - accuracy: 0.8097 - val_loss: 0.8265 - val_accuracy: 0.7171\n",
      "Epoch 3/100\n",
      "195/195 [==============================] - 26s 134ms/step - loss: 0.4923 - accuracy: 0.8316 - val_loss: 0.5575 - val_accuracy: 0.8095\n",
      "Epoch 4/100\n",
      "195/195 [==============================] - 26s 133ms/step - loss: 0.4604 - accuracy: 0.8413 - val_loss: 0.4984 - val_accuracy: 0.8361\n",
      "Epoch 5/100\n",
      "195/195 [==============================] - 27s 137ms/step - loss: 0.4286 - accuracy: 0.8524 - val_loss: 0.5180 - val_accuracy: 0.8313\n",
      "Epoch 6/100\n",
      "195/195 [==============================] - 26s 135ms/step - loss: 0.4094 - accuracy: 0.8581 - val_loss: 0.4691 - val_accuracy: 0.8433\n",
      "Epoch 7/100\n",
      "195/195 [==============================] - 30s 155ms/step - loss: 0.3963 - accuracy: 0.8624 - val_loss: 0.4086 - val_accuracy: 0.8621\n",
      "Epoch 8/100\n",
      "195/195 [==============================] - 35s 179ms/step - loss: 0.3625 - accuracy: 0.8738 - val_loss: 0.4457 - val_accuracy: 0.8534\n",
      "Epoch 9/100\n",
      "195/195 [==============================] - 32s 164ms/step - loss: 0.3528 - accuracy: 0.8762 - val_loss: 0.4197 - val_accuracy: 0.8632\n",
      "Epoch 10/100\n",
      "195/195 [==============================] - 33s 167ms/step - loss: 0.3464 - accuracy: 0.8798 - val_loss: 0.4208 - val_accuracy: 0.8630\n",
      "Epoch 11/100\n",
      "195/195 [==============================] - 35s 178ms/step - loss: 0.3224 - accuracy: 0.8881 - val_loss: 0.3951 - val_accuracy: 0.8691\n",
      "Epoch 12/100\n",
      "195/195 [==============================] - 33s 171ms/step - loss: 0.3081 - accuracy: 0.8930 - val_loss: 0.4219 - val_accuracy: 0.8638\n",
      "Epoch 13/100\n",
      "195/195 [==============================] - 34s 175ms/step - loss: 0.2966 - accuracy: 0.8969 - val_loss: 0.3937 - val_accuracy: 0.8745\n",
      "Epoch 14/100\n",
      "195/195 [==============================] - 33s 169ms/step - loss: 0.3037 - accuracy: 0.8941 - val_loss: 0.4244 - val_accuracy: 0.8599\n",
      "Epoch 15/100\n",
      "195/195 [==============================] - 31s 158ms/step - loss: 0.2845 - accuracy: 0.9002 - val_loss: 0.3864 - val_accuracy: 0.8772\n",
      "Epoch 16/100\n",
      "195/195 [==============================] - 34s 176ms/step - loss: 0.2701 - accuracy: 0.9054 - val_loss: 0.4060 - val_accuracy: 0.8695\n",
      "Epoch 17/100\n",
      "195/195 [==============================] - 37s 189ms/step - loss: 0.2593 - accuracy: 0.9089 - val_loss: 0.3743 - val_accuracy: 0.8821\n",
      "Epoch 18/100\n",
      "195/195 [==============================] - 40s 203ms/step - loss: 0.2558 - accuracy: 0.9116 - val_loss: 0.3760 - val_accuracy: 0.8820\n",
      "Epoch 19/100\n",
      "195/195 [==============================] - 37s 187ms/step - loss: 0.2412 - accuracy: 0.9152 - val_loss: 0.3719 - val_accuracy: 0.8825\n",
      "Epoch 20/100\n",
      "195/195 [==============================] - 37s 189ms/step - loss: 0.2331 - accuracy: 0.9185 - val_loss: 0.3747 - val_accuracy: 0.8831\n",
      "Epoch 21/100\n",
      "195/195 [==============================] - 36s 185ms/step - loss: 0.2297 - accuracy: 0.9203 - val_loss: 0.3958 - val_accuracy: 0.8779\n",
      "Epoch 22/100\n",
      "195/195 [==============================] - 36s 182ms/step - loss: 0.2180 - accuracy: 0.9233 - val_loss: 0.3986 - val_accuracy: 0.8748\n",
      "Epoch 23/100\n",
      "195/195 [==============================] - 36s 183ms/step - loss: 0.2156 - accuracy: 0.9233 - val_loss: 0.3730 - val_accuracy: 0.8802\n",
      "Epoch 24/100\n",
      "195/195 [==============================] - 38s 196ms/step - loss: 0.2146 - accuracy: 0.9241 - val_loss: 0.3634 - val_accuracy: 0.8874\n",
      "Epoch 25/100\n",
      "195/195 [==============================] - 37s 190ms/step - loss: 0.2254 - accuracy: 0.9229 - val_loss: 0.4062 - val_accuracy: 0.8755\n",
      "Epoch 26/100\n",
      "195/195 [==============================] - 37s 192ms/step - loss: 0.2011 - accuracy: 0.9282 - val_loss: 0.3695 - val_accuracy: 0.8835\n",
      "Epoch 27/100\n",
      "195/195 [==============================] - 34s 176ms/step - loss: 0.1911 - accuracy: 0.9312 - val_loss: 0.3598 - val_accuracy: 0.8884\n",
      "Epoch 28/100\n",
      "195/195 [==============================] - 35s 178ms/step - loss: 0.1932 - accuracy: 0.9330 - val_loss: 0.3603 - val_accuracy: 0.8900\n",
      "Epoch 29/100\n",
      "195/195 [==============================] - 34s 174ms/step - loss: 0.1803 - accuracy: 0.9357 - val_loss: 0.4182 - val_accuracy: 0.8799\n",
      "Epoch 30/100\n",
      "195/195 [==============================] - 36s 187ms/step - loss: 0.1769 - accuracy: 0.9369 - val_loss: 0.3984 - val_accuracy: 0.8829\n",
      "Epoch 31/100\n",
      "195/195 [==============================] - 37s 191ms/step - loss: 0.1754 - accuracy: 0.9371 - val_loss: 0.3705 - val_accuracy: 0.8878\n",
      "Epoch 32/100\n",
      "195/195 [==============================] - 34s 172ms/step - loss: 0.1690 - accuracy: 0.9392 - val_loss: 0.3654 - val_accuracy: 0.8863\n",
      "Epoch 33/100\n",
      "195/195 [==============================] - 36s 186ms/step - loss: 0.1622 - accuracy: 0.9423 - val_loss: 0.3784 - val_accuracy: 0.8901\n",
      "Epoch 34/100\n",
      "195/195 [==============================] - 36s 186ms/step - loss: 0.1603 - accuracy: 0.9425 - val_loss: 0.4030 - val_accuracy: 0.8881\n",
      "Epoch 35/100\n",
      "195/195 [==============================] - 37s 187ms/step - loss: 0.1627 - accuracy: 0.9422 - val_loss: 0.4123 - val_accuracy: 0.8859\n",
      "Epoch 36/100\n",
      "195/195 [==============================] - 37s 190ms/step - loss: 0.1633 - accuracy: 0.9427 - val_loss: 0.3817 - val_accuracy: 0.8874\n",
      "Epoch 37/100\n",
      "195/195 [==============================] - 36s 187ms/step - loss: 0.1524 - accuracy: 0.9463 - val_loss: 0.4584 - val_accuracy: 0.8749\n",
      "Epoch 38/100\n",
      "195/195 [==============================] - 38s 197ms/step - loss: 0.1501 - accuracy: 0.9478 - val_loss: 0.3536 - val_accuracy: 0.8972\n",
      "Epoch 39/100\n",
      "195/195 [==============================] - 42s 214ms/step - loss: 0.1521 - accuracy: 0.9451 - val_loss: 0.4078 - val_accuracy: 0.8813\n",
      "Epoch 40/100\n",
      "195/195 [==============================] - 36s 182ms/step - loss: 0.1418 - accuracy: 0.9497 - val_loss: 0.4094 - val_accuracy: 0.8872\n",
      "Epoch 41/100\n",
      "195/195 [==============================] - 36s 186ms/step - loss: 0.1429 - accuracy: 0.9485 - val_loss: 0.4017 - val_accuracy: 0.8858\n",
      "Epoch 42/100\n",
      "195/195 [==============================] - 37s 188ms/step - loss: 0.1361 - accuracy: 0.9518 - val_loss: 0.3857 - val_accuracy: 0.8921\n",
      "Epoch 43/100\n",
      "195/195 [==============================] - 36s 186ms/step - loss: 0.1329 - accuracy: 0.9539 - val_loss: 0.3813 - val_accuracy: 0.8913\n",
      "Epoch 44/100\n",
      "195/195 [==============================] - 37s 188ms/step - loss: 0.1384 - accuracy: 0.9508 - val_loss: 0.3722 - val_accuracy: 0.8921\n",
      "Epoch 45/100\n",
      "195/195 [==============================] - 37s 188ms/step - loss: 0.1303 - accuracy: 0.9536 - val_loss: 0.3932 - val_accuracy: 0.8878\n",
      "Epoch 46/100\n",
      "195/195 [==============================] - 37s 189ms/step - loss: 0.1280 - accuracy: 0.9551 - val_loss: 0.3887 - val_accuracy: 0.8924\n",
      "Epoch 47/100\n",
      "195/195 [==============================] - 34s 176ms/step - loss: 0.1416 - accuracy: 0.9514 - val_loss: 0.4443 - val_accuracy: 0.8749\n",
      "Epoch 48/100\n",
      "195/195 [==============================] - 35s 181ms/step - loss: 0.1382 - accuracy: 0.9506 - val_loss: 0.4035 - val_accuracy: 0.8888\n",
      "Epoch 49/100\n",
      "195/195 [==============================] - 34s 177ms/step - loss: 0.1247 - accuracy: 0.9565 - val_loss: 0.3994 - val_accuracy: 0.8923\n",
      "Epoch 50/100\n",
      "195/195 [==============================] - 34s 174ms/step - loss: 0.1175 - accuracy: 0.9581 - val_loss: 0.4431 - val_accuracy: 0.8840\n",
      "Epoch 51/100\n",
      "195/195 [==============================] - 39s 198ms/step - loss: 0.1171 - accuracy: 0.9582 - val_loss: 0.3892 - val_accuracy: 0.8960\n",
      "Epoch 52/100\n",
      "195/195 [==============================] - 34s 176ms/step - loss: 0.1155 - accuracy: 0.9590 - val_loss: 0.4199 - val_accuracy: 0.8897\n",
      "Epoch 53/100\n",
      "195/195 [==============================] - 36s 183ms/step - loss: 0.1111 - accuracy: 0.9599 - val_loss: 0.4172 - val_accuracy: 0.8911\n",
      "Epoch 54/100\n",
      "195/195 [==============================] - 37s 189ms/step - loss: 0.1116 - accuracy: 0.9607 - val_loss: 0.4019 - val_accuracy: 0.8912\n",
      "Epoch 55/100\n",
      "195/195 [==============================] - 36s 182ms/step - loss: 0.1150 - accuracy: 0.9590 - val_loss: 0.3847 - val_accuracy: 0.8955\n",
      "Epoch 56/100\n",
      "195/195 [==============================] - 34s 173ms/step - loss: 0.1093 - accuracy: 0.9614 - val_loss: 0.3881 - val_accuracy: 0.8929\n",
      "Epoch 57/100\n",
      "195/195 [==============================] - 26s 136ms/step - loss: 0.1102 - accuracy: 0.9604 - val_loss: 0.3949 - val_accuracy: 0.8961\n",
      "Epoch 58/100\n",
      "195/195 [==============================] - 27s 136ms/step - loss: 0.1027 - accuracy: 0.9624 - val_loss: 0.3646 - val_accuracy: 0.9014\n",
      "Epoch 00058: early stopping\n"
     ]
    }
   ],
   "source": [
    "#Selection of RMS over Adam or vice versa for optimisation was purely experimental and results for which is superior is yet to be decided.\n",
    "\n",
    "opt_adam = keras.optimizers.Adam(lr=0.001,decay=1e-6)\n",
    "model.compile(loss='sparse_categorical_crossentropy', optimizer=opt_adam, metrics=['accuracy'])\n",
    "batch_size = 256\n",
    "history = model.fit_generator(datagen.flow(x_train, y_train, batch_size=batch_size),\\\n",
    "                    steps_per_epoch=x_train.shape[0] // batch_size, epochs=100,\\\n",
    "                    verbose=1,validation_data=(x_test,y_test),callbacks=callback_list)"
   ]
  },
  {
   "cell_type": "code",
   "execution_count": 27,
   "metadata": {},
   "outputs": [],
   "source": [
    "# Create a copy for further experimentation\n",
    "best_mod = model"
   ]
  },
  {
   "cell_type": "code",
   "execution_count": 28,
   "metadata": {},
   "outputs": [
    {
     "name": "stdout",
     "output_type": "stream",
     "text": [
      "10000/10000 - 3s - loss: 0.3646 - accuracy: 0.9014\n"
     ]
    },
    {
     "data": {
      "image/png": "[encoded data removed]",
      "text/plain": [
       "<Figure size 432x288 with 1 Axes>"
      ]
     },
     "metadata": {
      "needs_background": "light"
     },
     "output_type": "display_data"
    }
   ],
   "source": [
    "plt.plot(history.history['accuracy'], label='accuracy')\n",
    "plt.plot(history.history['val_accuracy'], label = 'val_accuracy')\n",
    "plt.xlabel('Epoch')\n",
    "plt.ylabel('Accuracy')\n",
    "plt.ylim([0.5, 1])\n",
    "plt.legend(loc='lower right')\n",
    "\n",
    "test_loss, test_acc = model.evaluate(x_test,  y_test, verbose=2)"
   ]
  },
  {
   "cell_type": "code",
   "execution_count": 29,
   "metadata": {},
   "outputs": [
    {
     "name": "stdout",
     "output_type": "stream",
     "text": [
      "10000/10000 [==============================] - 2s 181us/sample - loss: 0.3646 - accuracy: 0.9014\n"
     ]
    }
   ],
   "source": [
    "scores = model.evaluate(x_test, y_test, batch_size=128, verbose=1)"
   ]
  },
  {
   "cell_type": "code",
   "execution_count": 30,
   "metadata": {},
   "outputs": [
    {
     "name": "stdout",
     "output_type": "stream",
     "text": [
      "Accuracy : 0.9014\n",
      "Loss : 0.36459361381530764\n"
     ]
    }
   ],
   "source": [
    "print('Accuracy :', scores[1])\n",
    "print('Loss :', scores[0])"
   ]
  },
  {
   "cell_type": "code",
   "execution_count": null,
   "metadata": {},
   "outputs": [],
   "source": []
  }
 ],
 "metadata": {
  "kernelspec": {
   "display_name": "Python 3",
   "language": "python",
   "name": "python3"
  },
  "language_info": {
   "codemirror_mode": {
    "name": "ipython",
    "version": 3
   },
   "file_extension": ".py",
   "mimetype": "text/x-python",
   "name": "python",
   "nbconvert_exporter": "python",
   "pygments_lexer": "ipython3",
   "version": "3.6.9"
  }
 },
 "nbformat": 4,
 "nbformat_minor": 4
}
